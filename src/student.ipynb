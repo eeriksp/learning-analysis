{
 "cells": [
  {
   "cell_type": "code",
   "execution_count": null,
   "metadata": {},
   "outputs": [],
   "source": [
    "# Imports\n",
    "\n",
    "from IPython.display import HTML\n",
    "\n",
    "import matplotlib.pyplot as plt\n",
    "import seaborn as sns\n",
    "\n",
    "from environ import get_params\n",
    "from db import query_single_row, query_data_frame\n",
    "from queries import current_study_year"
   ]
  },
  {
   "cell_type": "code",
   "execution_count": null,
   "metadata": {},
   "outputs": [],
   "source": [
    "params = get_params(\n",
    "    STUDENT_ID = 1000,\n",
    "    CURRENT_STUDY_YEAR = current_study_year()\n",
    ")\n",
    "params.STUDENT_ID = int(params.STUDENT_ID)\n",
    "params.CURRENT_STUDY_YEAR = int(params.CURRENT_STUDY_YEAR)"
   ]
  },
  {
   "cell_type": "code",
   "execution_count": null,
   "metadata": {},
   "outputs": [],
   "source": [
    "student = query_single_row(\"\"\"\n",
    "    SELECT\n",
    "        uniid,\n",
    "        first_name,\n",
    "        last_name,\n",
    "        date_part('year', CURRENT_DATE) - year_of_birth AS age,\n",
    "        curriculum,\n",
    "        study_form,\n",
    "        is_compulsory,\n",
    "        grade\n",
    "    FROM study INNER JOIN student USING (student_id)\n",
    "    WHERE study_year = %s AND student_id = %s\n",
    "\"\"\", (params.CURRENT_STUDY_YEAR, params.STUDENT_ID))"
   ]
  },
  {
   "cell_type": "code",
   "execution_count": null,
   "metadata": {},
   "outputs": [],
   "source": [
    "HTML(f\"\"\"\n",
    "    <h1 style=\"font-size: 3em\">{student.first_name} {student.last_name} (<i>{student.uniid}<i/>)<h1/>\n",
    "    <h2 style=\"font-size: 0.6em\" >General data</h2>\n",
    "    <table>\n",
    "        <tr><td><strong>Curriculum:<strong/><td/>{student.curriculum} ({\"compulsory\" if student.is_compulsory else \"not compulsory\"})<td><td/><tr/>\n",
    "        <tr><td><strong>Study form:<strong/><td/>{student.study_form}<td><td/><tr/>\n",
    "        <tr><td><strong>Age:<strong/><td/>{student.age}<td><td/><tr/>\n",
    "    <table/>\n",
    "\"\"\")"
   ]
  },
  {
   "cell_type": "markdown",
   "metadata": {
    "tags": []
   },
   "source": [
    "## Performance on course"
   ]
  },
  {
   "cell_type": "code",
   "execution_count": null,
   "metadata": {},
   "outputs": [],
   "source": [
    "score_on_weeks = query_data_frame(\"\"\"\n",
    "    SELECT\n",
    "        week_number,\n",
    "        score_on_week(%(student_id)s, %(study_year)s, week_number) AS student_score,\n",
    "        (SELECT avg_score FROM weekly_stats WHERE weekly_stats.study_year = %(study_year)s AND weekly_stats.week = week_number) AS course_avg_score\n",
    "    FROM generate_series(1, 16) as week (week_number)\n",
    "\"\"\", {\"student_id\": params.STUDENT_ID, \"study_year\": params.CURRENT_STUDY_YEAR})\n",
    "score_on_weeks\n",
    "\n",
    "plt.figure(figsize=(13,6))\n",
    "plt.plot(score_on_weeks[\"week_number\"], score_on_weeks[\"student_score\"], label=\"student's score\")\n",
    "plt.plot(score_on_weeks[\"week_number\"], score_on_weeks[\"course_avg_score\"], label=\"course mean score\")\n",
    "plt.legend()\n",
    "plt.grid()\n",
    "plt.xlabel(\"study week\")\n",
    "plt.ylabel(\"score\");\n"
   ]
  }
 ],
 "metadata": {
  "kernelspec": {
   "display_name": "Python 3 (ipykernel)",
   "language": "python",
   "name": "python3"
  },
  "language_info": {
   "codemirror_mode": {
    "name": "ipython",
    "version": 3
   },
   "file_extension": ".py",
   "mimetype": "text/x-python",
   "name": "python",
   "nbconvert_exporter": "python",
   "pygments_lexer": "ipython3",
   "version": "3.9.7"
  }
 },
 "nbformat": 4,
 "nbformat_minor": 4
}
