{
 "cells": [
  {
   "cell_type": "markdown",
   "metadata": {},
   "source": []
  },
  {
   "cell_type": "code",
   "execution_count": null,
   "metadata": {},
   "outputs": [],
   "source": [
    "# Imports\n",
    "\n",
    "from environ import get_params\n",
    "from db import query_data_frame\n",
    "from queries import current_study_year"
   ]
  },
  {
   "cell_type": "code",
   "execution_count": null,
   "metadata": {},
   "outputs": [],
   "source": [
    "# Params\n",
    "\n",
    "params = get_params(\n",
    "    CURRENT_STUDY_YEAR = current_study_year()\n",
    ")"
   ]
  },
  {
   "cell_type": "code",
   "execution_count": null,
   "metadata": {},
   "outputs": [],
   "source": [
    "# Students table\n",
    "\n",
    "students = query_data_frame(\"\"\"\n",
    "    SELECT\n",
    "        student_id,\n",
    "        uniid,\n",
    "        first_name,\n",
    "        last_name,\n",
    "        date_part('year', CURRENT_DATE) - year_of_birth AS age,\n",
    "        curriculum,\n",
    "        study_form,\n",
    "        is_compulsory\n",
    "    FROM study INNER JOIN student USING (student_id)\n",
    "    WHERE study_year = %s\n",
    "\"\"\", (params.CURRENT_STUDY_YEAR,))\n",
    "students\n"
   ]
  }
 ],
 "metadata": {
  "kernelspec": {
   "display_name": "Python 3 (ipykernel)",
   "language": "python",
   "name": "python3"
  },
  "language_info": {
   "codemirror_mode": {
    "name": "ipython",
    "version": 3
   },
   "file_extension": ".py",
   "mimetype": "text/x-python",
   "name": "python",
   "nbconvert_exporter": "python",
   "pygments_lexer": "ipython3",
   "version": "3.9.7"
  }
 },
 "nbformat": 4,
 "nbformat_minor": 4
}